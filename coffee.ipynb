{
 "cells": [
  {
   "cell_type": "code",
   "outputs": [
    {
     "data": {
      "text/plain": "                               name                     roaster         roast  \\\n0          Ethiopia Shakiso Mormora                Revel Coffee  Medium-Light   \n1                Ethiopia Suke Quto                 Roast House  Medium-Light   \n2        Ethiopia Gedeb Halo Beriti   Big Creek Coffee Roasters        Medium   \n3           Ethiopia Kayon Mountain  Red Rooster Coffee Roaster         Light   \n4  Ethiopia Gelgelu Natural Organic   Willoughby's Coffee & Tea  Medium-Light   \n\n     loc_country    origin  100g_USD  rating    review_date  \\\n0  United States  Ethiopia      4.70      92  November 2017   \n1  United States  Ethiopia      4.19      92  November 2017   \n2  United States  Ethiopia      4.85      94  November 2017   \n3  United States  Ethiopia      5.14      93  November 2017   \n4  United States  Ethiopia      3.97      93  November 2017   \n\n                                              review  \n0  Crisply sweet, cocoa-toned. Lemon blossom, roa...  \n1  Delicate, sweetly spice-toned. Pink peppercorn...  \n2  Deeply sweet, subtly pungent. Honey, pear, tan...  \n3  Delicate, richly and sweetly tart. Dried hibis...  \n4  High-toned, floral. Dried apricot, magnolia, a...  ",
      "text/html": "<div>\n<style scoped>\n    .dataframe tbody tr th:only-of-type {\n        vertical-align: middle;\n    }\n\n    .dataframe tbody tr th {\n        vertical-align: top;\n    }\n\n    .dataframe thead th {\n        text-align: right;\n    }\n</style>\n<table border=\"1\" class=\"dataframe\">\n  <thead>\n    <tr style=\"text-align: right;\">\n      <th></th>\n      <th>name</th>\n      <th>roaster</th>\n      <th>roast</th>\n      <th>loc_country</th>\n      <th>origin</th>\n      <th>100g_USD</th>\n      <th>rating</th>\n      <th>review_date</th>\n      <th>review</th>\n    </tr>\n  </thead>\n  <tbody>\n    <tr>\n      <th>0</th>\n      <td>Ethiopia Shakiso Mormora</td>\n      <td>Revel Coffee</td>\n      <td>Medium-Light</td>\n      <td>United States</td>\n      <td>Ethiopia</td>\n      <td>4.70</td>\n      <td>92</td>\n      <td>November 2017</td>\n      <td>Crisply sweet, cocoa-toned. Lemon blossom, roa...</td>\n    </tr>\n    <tr>\n      <th>1</th>\n      <td>Ethiopia Suke Quto</td>\n      <td>Roast House</td>\n      <td>Medium-Light</td>\n      <td>United States</td>\n      <td>Ethiopia</td>\n      <td>4.19</td>\n      <td>92</td>\n      <td>November 2017</td>\n      <td>Delicate, sweetly spice-toned. Pink peppercorn...</td>\n    </tr>\n    <tr>\n      <th>2</th>\n      <td>Ethiopia Gedeb Halo Beriti</td>\n      <td>Big Creek Coffee Roasters</td>\n      <td>Medium</td>\n      <td>United States</td>\n      <td>Ethiopia</td>\n      <td>4.85</td>\n      <td>94</td>\n      <td>November 2017</td>\n      <td>Deeply sweet, subtly pungent. Honey, pear, tan...</td>\n    </tr>\n    <tr>\n      <th>3</th>\n      <td>Ethiopia Kayon Mountain</td>\n      <td>Red Rooster Coffee Roaster</td>\n      <td>Light</td>\n      <td>United States</td>\n      <td>Ethiopia</td>\n      <td>5.14</td>\n      <td>93</td>\n      <td>November 2017</td>\n      <td>Delicate, richly and sweetly tart. Dried hibis...</td>\n    </tr>\n    <tr>\n      <th>4</th>\n      <td>Ethiopia Gelgelu Natural Organic</td>\n      <td>Willoughby's Coffee &amp; Tea</td>\n      <td>Medium-Light</td>\n      <td>United States</td>\n      <td>Ethiopia</td>\n      <td>3.97</td>\n      <td>93</td>\n      <td>November 2017</td>\n      <td>High-toned, floral. Dried apricot, magnolia, a...</td>\n    </tr>\n  </tbody>\n</table>\n</div>"
     },
     "execution_count": 49,
     "metadata": {},
     "output_type": "execute_result"
    }
   ],
   "source": [
    "import pandas as pd\n",
    "import numpy as np\n",
    "import matplotlib.pyplot as plt\n",
    "import seaborn as sns\n",
    "from scipy.stats import normaltest, pearsonr\n",
    "\n",
    "# читаем датасет\n",
    "data = pd.read_csv(\"coffee_review.csv\")\n",
    "\n",
    "# смотрим первыве строки датасета\n",
    "data.head()"
   ],
   "metadata": {
    "collapsed": false,
    "ExecuteTime": {
     "end_time": "2024-12-11T14:44:26.469075700Z",
     "start_time": "2024-12-11T14:44:26.397353900Z"
    }
   },
   "id": "cf89961dc39a0e3",
   "execution_count": 49
  },
  {
   "cell_type": "code",
   "outputs": [
    {
     "name": "stdout",
     "output_type": "stream",
     "text": [
      "<class 'pandas.core.frame.DataFrame'>\n",
      "RangeIndex: 1246 entries, 0 to 1245\n",
      "Data columns (total 9 columns):\n",
      " #   Column       Non-Null Count  Dtype  \n",
      "---  ------       --------------  -----  \n",
      " 0   name         1246 non-null   object \n",
      " 1   roaster      1246 non-null   object \n",
      " 2   roast        1234 non-null   object \n",
      " 3   loc_country  1246 non-null   object \n",
      " 4   origin       1246 non-null   object \n",
      " 5   100g_USD     1246 non-null   float64\n",
      " 6   rating       1246 non-null   int64  \n",
      " 7   review_date  1246 non-null   object \n",
      " 8   review       1246 non-null   object \n",
      "dtypes: float64(1), int64(1), object(7)\n",
      "memory usage: 87.7+ KB\n"
     ]
    }
   ],
   "source": [
    "# смотрим общую информацию о датасете\n",
    "data.info()"
   ],
   "metadata": {
    "collapsed": false,
    "ExecuteTime": {
     "end_time": "2024-12-11T14:44:26.502395400Z",
     "start_time": "2024-12-11T14:44:26.454926900Z"
    }
   },
   "id": "71906f73827f893b",
   "execution_count": 50
  },
  {
   "cell_type": "markdown",
   "source": [
    "Мы получили инормацию о типах данных датасета"
   ],
   "metadata": {
    "collapsed": false
   },
   "id": "b96c6cace91baffa"
  },
  {
   "cell_type": "code",
   "outputs": [
    {
     "data": {
      "text/plain": "name            0\nroaster         0\nroast          12\nloc_country     0\norigin          0\n100g_USD        0\nrating          0\nreview_date     0\nreview          0\ndtype: int64"
     },
     "execution_count": 51,
     "metadata": {},
     "output_type": "execute_result"
    }
   ],
   "source": [
    "# подсчет количества NaN значений\n",
    "data.isnull().sum()"
   ],
   "metadata": {
    "collapsed": false,
    "ExecuteTime": {
     "end_time": "2024-12-11T14:44:26.547452400Z",
     "start_time": "2024-12-11T14:44:26.504678400Z"
    }
   },
   "id": "df884925ee1d82bb",
   "execution_count": 51
  },
  {
   "cell_type": "markdown",
   "source": [
    "в поле roast есть 12 NaN значений"
   ],
   "metadata": {
    "collapsed": false
   },
   "id": "8e6582918883122b"
  },
  {
   "cell_type": "code",
   "outputs": [
    {
     "data": {
      "text/plain": "                                  name                     roaster  \\\n0             Ethiopia Shakiso Mormora                Revel Coffee   \n1                   Ethiopia Suke Quto                 Roast House   \n2           Ethiopia Gedeb Halo Beriti   Big Creek Coffee Roasters   \n3              Ethiopia Kayon Mountain  Red Rooster Coffee Roaster   \n4     Ethiopia Gelgelu Natural Organic   Willoughby's Coffee & Tea   \n...                                ...                         ...   \n1241                    Finca Patzibir                El Gran Cafe   \n1242                   Proyecto Aurora                El Gran Cafe   \n1243                  Finca El Potrero                El Gran Cafe   \n1244          Chacayá Santiago Atitlán                El Gran Cafe   \n1245                    Espresso No. 3                El Gran Cafe   \n\n             roast    loc_country     origin  100g_USD  rating    review_date  \\\n0     Medium-Light  United States   Ethiopia      4.70      92  November 2017   \n1     Medium-Light  United States   Ethiopia      4.19      92  November 2017   \n2           Medium  United States   Ethiopia      4.85      94  November 2017   \n3            Light  United States   Ethiopia      5.14      93  November 2017   \n4     Medium-Light  United States   Ethiopia      3.97      93  November 2017   \n...            ...            ...        ...       ...     ...            ...   \n1241  Medium-Light      Guatemala  Guatemala      4.70      92  November 2022   \n1242  Medium-Light      Guatemala  Guatemala      2.94      93  November 2022   \n1243  Medium-Light      Guatemala  Guatemala      2.94      93  November 2022   \n1244  Medium-Light      Guatemala  Guatemala      4.70      93  November 2022   \n1245  Medium-Light      Guatemala  Guatemala      5.88      94  November 2022   \n\n                                                 review  \n0     Crisply sweet, cocoa-toned. Lemon blossom, roa...  \n1     Delicate, sweetly spice-toned. Pink peppercorn...  \n2     Deeply sweet, subtly pungent. Honey, pear, tan...  \n3     Delicate, richly and sweetly tart. Dried hibis...  \n4     High-toned, floral. Dried apricot, magnolia, a...  \n...                                                 ...  \n1241  Crisply sweet, nut-toned. Almond brittle, pie ...  \n1242  Chocolaty, floral-framed. Cocoa nib, honeysuck...  \n1243  High-toned, enticingly sweet. Black cherry, na...  \n1244   Vibrantly sweet, subtly nuanced. Apricot, dar...  \n1245  Evaluated as espresso. Multi-layered, complex....  \n\n[1234 rows x 9 columns]",
      "text/html": "<div>\n<style scoped>\n    .dataframe tbody tr th:only-of-type {\n        vertical-align: middle;\n    }\n\n    .dataframe tbody tr th {\n        vertical-align: top;\n    }\n\n    .dataframe thead th {\n        text-align: right;\n    }\n</style>\n<table border=\"1\" class=\"dataframe\">\n  <thead>\n    <tr style=\"text-align: right;\">\n      <th></th>\n      <th>name</th>\n      <th>roaster</th>\n      <th>roast</th>\n      <th>loc_country</th>\n      <th>origin</th>\n      <th>100g_USD</th>\n      <th>rating</th>\n      <th>review_date</th>\n      <th>review</th>\n    </tr>\n  </thead>\n  <tbody>\n    <tr>\n      <th>0</th>\n      <td>Ethiopia Shakiso Mormora</td>\n      <td>Revel Coffee</td>\n      <td>Medium-Light</td>\n      <td>United States</td>\n      <td>Ethiopia</td>\n      <td>4.70</td>\n      <td>92</td>\n      <td>November 2017</td>\n      <td>Crisply sweet, cocoa-toned. Lemon blossom, roa...</td>\n    </tr>\n    <tr>\n      <th>1</th>\n      <td>Ethiopia Suke Quto</td>\n      <td>Roast House</td>\n      <td>Medium-Light</td>\n      <td>United States</td>\n      <td>Ethiopia</td>\n      <td>4.19</td>\n      <td>92</td>\n      <td>November 2017</td>\n      <td>Delicate, sweetly spice-toned. Pink peppercorn...</td>\n    </tr>\n    <tr>\n      <th>2</th>\n      <td>Ethiopia Gedeb Halo Beriti</td>\n      <td>Big Creek Coffee Roasters</td>\n      <td>Medium</td>\n      <td>United States</td>\n      <td>Ethiopia</td>\n      <td>4.85</td>\n      <td>94</td>\n      <td>November 2017</td>\n      <td>Deeply sweet, subtly pungent. Honey, pear, tan...</td>\n    </tr>\n    <tr>\n      <th>3</th>\n      <td>Ethiopia Kayon Mountain</td>\n      <td>Red Rooster Coffee Roaster</td>\n      <td>Light</td>\n      <td>United States</td>\n      <td>Ethiopia</td>\n      <td>5.14</td>\n      <td>93</td>\n      <td>November 2017</td>\n      <td>Delicate, richly and sweetly tart. Dried hibis...</td>\n    </tr>\n    <tr>\n      <th>4</th>\n      <td>Ethiopia Gelgelu Natural Organic</td>\n      <td>Willoughby's Coffee &amp; Tea</td>\n      <td>Medium-Light</td>\n      <td>United States</td>\n      <td>Ethiopia</td>\n      <td>3.97</td>\n      <td>93</td>\n      <td>November 2017</td>\n      <td>High-toned, floral. Dried apricot, magnolia, a...</td>\n    </tr>\n    <tr>\n      <th>...</th>\n      <td>...</td>\n      <td>...</td>\n      <td>...</td>\n      <td>...</td>\n      <td>...</td>\n      <td>...</td>\n      <td>...</td>\n      <td>...</td>\n      <td>...</td>\n    </tr>\n    <tr>\n      <th>1241</th>\n      <td>Finca Patzibir</td>\n      <td>El Gran Cafe</td>\n      <td>Medium-Light</td>\n      <td>Guatemala</td>\n      <td>Guatemala</td>\n      <td>4.70</td>\n      <td>92</td>\n      <td>November 2022</td>\n      <td>Crisply sweet, nut-toned. Almond brittle, pie ...</td>\n    </tr>\n    <tr>\n      <th>1242</th>\n      <td>Proyecto Aurora</td>\n      <td>El Gran Cafe</td>\n      <td>Medium-Light</td>\n      <td>Guatemala</td>\n      <td>Guatemala</td>\n      <td>2.94</td>\n      <td>93</td>\n      <td>November 2022</td>\n      <td>Chocolaty, floral-framed. Cocoa nib, honeysuck...</td>\n    </tr>\n    <tr>\n      <th>1243</th>\n      <td>Finca El Potrero</td>\n      <td>El Gran Cafe</td>\n      <td>Medium-Light</td>\n      <td>Guatemala</td>\n      <td>Guatemala</td>\n      <td>2.94</td>\n      <td>93</td>\n      <td>November 2022</td>\n      <td>High-toned, enticingly sweet. Black cherry, na...</td>\n    </tr>\n    <tr>\n      <th>1244</th>\n      <td>Chacayá Santiago Atitlán</td>\n      <td>El Gran Cafe</td>\n      <td>Medium-Light</td>\n      <td>Guatemala</td>\n      <td>Guatemala</td>\n      <td>4.70</td>\n      <td>93</td>\n      <td>November 2022</td>\n      <td>Vibrantly sweet, subtly nuanced. Apricot, dar...</td>\n    </tr>\n    <tr>\n      <th>1245</th>\n      <td>Espresso No. 3</td>\n      <td>El Gran Cafe</td>\n      <td>Medium-Light</td>\n      <td>Guatemala</td>\n      <td>Guatemala</td>\n      <td>5.88</td>\n      <td>94</td>\n      <td>November 2022</td>\n      <td>Evaluated as espresso. Multi-layered, complex....</td>\n    </tr>\n  </tbody>\n</table>\n<p>1234 rows × 9 columns</p>\n</div>"
     },
     "execution_count": 52,
     "metadata": {},
     "output_type": "execute_result"
    }
   ],
   "source": [
    "# убираем строки с NaN\n",
    "data.dropna()"
   ],
   "metadata": {
    "collapsed": false,
    "ExecuteTime": {
     "end_time": "2024-12-11T14:44:26.615957100Z",
     "start_time": "2024-12-11T14:44:26.521873100Z"
    }
   },
   "id": "762e1a2006b1f39a",
   "execution_count": 52
  },
  {
   "cell_type": "code",
   "outputs": [
    {
     "name": "stdout",
     "output_type": "stream",
     "text": [
      "name: ['Ethiopia Shakiso Mormora' 'Ethiopia Suke Quto'\n",
      " 'Ethiopia Gedeb Halo Beriti' ... 'Finca El Potrero'\n",
      " 'Chacayá Santiago Atitlán' 'Espresso No. 3']\n",
      "roaster: ['Revel Coffee' 'Roast House' 'Big Creek Coffee Roasters'\n",
      " 'Red Rooster Coffee Roaster' \"Willoughby's Coffee & Tea\"\n",
      " 'Black Oak Coffee Roasters' 'Wonderstate Coffee' 'Reunion Island Coffee'\n",
      " 'Old Soul Co.' 'A.R.C.' 'Paradise Roasters' 'Hula Daddy Kona Coffee'\n",
      " 'Kakalove Cafe' 'Jackrabbit Java' 'Propeller Coffee'\n",
      " 'Chocolate Fish Coffee Roasters' 'Lexington Coffee Roasters'\n",
      " 'Noble Coffee Roasting' \"Ben's Beans\" 'Espresso Republic'\n",
      " 'Good Folks Coffee' 'Flight Coffee Co.' 'Green Stone Coffee'\n",
      " 'Equator Coffees & Teas' 'Klatch Coffee' \"Ka'u Specialty Coffee\"\n",
      " 'Simon Hsieh’s Aroma Roast Coffees' \"PT's Coffee Roasting\"\n",
      " 'Hala Tree Kona Coffee' 'Barrington Coffee Roasting'\n",
      " 'The WestBean Coffee Roasters' 'Mystic Monk Coffee' 'JBC Coffee Roasters'\n",
      " 'Good Chance Biotechnology, Ltd.' 'Manzanita Roasting Company'\n",
      " 'Bird Rock Coffee Roasters' 'Temple Coffee and Tea'\n",
      " 'Durango Coffee Company' 'Caffe Luxxe' 'Java Blend Coffee Roasters'\n",
      " 'Big Shoulders Coffee' 'Caffeic' 'Mr. Espresso'\n",
      " 'Greater Goods Coffee Roasters' 'Tico Coffee Roasters' 'Roasters Note'\n",
      " \"Evie's Cafe\" 'Soul Work Coffee' 'Coffee Please'\n",
      " 'Dragonfly Coffee Roasters' 'Peri Coffee' 'Moore Coffee'\n",
      " 'Argyle Coffee Roasters' \"Rusty's Hawaiian Coffee\"\n",
      " 'Bluebeard Coffee Roasters' 'Direct Coffee' 'Nook Bakery & Coffee Bar'\n",
      " 'Novel Coffee Roasters' 'Back Home Coffee' 'Auto Coffee'\n",
      " 'Corvus Coffee Roasters' 'The Curve Coffee Roasting Co.'\n",
      " 'Mustard Seed Cafe' 'Olympia Coffee Roasting' 'Small Eyes Cafe'\n",
      " 'Magnolia Coffee' 'Taokas Coffee' 'States Coffee & Mercantile'\n",
      " 'Crown & Fancy' 'Difference Coffee' 'Sweet Bloom Coffee Roasters'\n",
      " 'Desert Sun Coffee Roasters' \"Simon Hsieh's Aroma Roast Coffees\"\n",
      " 'North Coast Coffee Roasting' 'Grounds for Change'\n",
      " 'Steady State Roasting Company' 'Branch Street Coffee Roasters'\n",
      " 'GK Coffee' 'Fumi Coffee' \"Augie's Coffee Roasters\" 'Ho Soo Tsai'\n",
      " 'Joe Van Gogh Coffee' 'Topeca Coffee Roasters' 'Speckled Ax'\n",
      " 'Steadfast Coffee' 'Broadsheet Coffee' 'De Clieu Coffee'\n",
      " 'Turnstile Coffee Roasters' 'Blues Brew Coffee' 'Temple Coffee Roasters'\n",
      " 'Kaffetre' 'Origin Coffee Roasters' 'Speedwell Coffee'\n",
      " 'Gracenote Coffee Roasters' 'Tandem Coffee' \"PT's Coffee Roasting Co.\"\n",
      " 'Santos Coffee' 'Plat Coffee Roastery' 'Jampot Poorock Abbey'\n",
      " 'Cafe Virtuoso' 'Small Eyes Café' 'Equator Coffees'\n",
      " 'Big Island Coffee Roasters' 'Nine Point Coffee' \"Rusty's Hawaiian\"\n",
      " 'Three Chairs Specialty Turkish Coffee' 'Beanfruit Coffee Co.'\n",
      " 'Dou Zhai Coffee & Roast' 'Baba Java Coffee' 'SkyTop Coffee'\n",
      " 'Kauai Coffee Company' 'Pro Aroma Enterprise Coffee'\n",
      " 'Good Chance Biotechnology' 'Dinwei Cafe' 'Deeper Roots Coffee'\n",
      " 'Duluth Coffee' '94 Fresh Coffee' 'Kakalove Café'\n",
      " 'Mudhouse Coffee Roasters' 'MJ Bear Coffee' 'Coffeebar'\n",
      " 'Pedestrian Coffee' 'Collage Coffee' 'Lucky Cafe' 'Campos Coffee'\n",
      " 'South Slope Coffee Roasters' 'Souvenir Coffee'\n",
      " 'Black & White Coffee Roasters' 'Quartet Kaffe' 'Amavida Coffee Roasters'\n",
      " 'MK Coffee Roasters' 'Chez Cafe' 'Battlecreek Coffee Roasters'\n",
      " 'Press House Coffee' 'Guorizi Zhai Coffee' 'Black Coffee In Black Jar'\n",
      " 'Rotate Fun Club' \"Larry's Coffee\" 'Joe Van Gogh' 'Signature Reserve'\n",
      " \"Eight O'Clock Coffee\" 'Starbucks Coffee' 'Euphora Coffee'\n",
      " 'Cloud City Coffee' 'Counter Culture Coffee' 'Jampot Poorrock Abbey'\n",
      " 'Kona Farm Direct' 'Indaba Coffee Roasters' 'Fire Ridge Coffee'\n",
      " 'Dapper & Wise' 'BeanFruit Coffee Co.' 'modcup coffee' 'Kona Roasted'\n",
      " 'Cafe Grumpy' 'Vennel Coffee' 'Oak & Bond Coffee Company'\n",
      " 'Bonfire Coffee Company' 'RamsHead Coffee Roasters'\n",
      " 'Conscious Cup Coffee Roasters' 'Atom Coffee Roasters' \"David's Nose\"\n",
      " 'Brain Helmet' 'Atomic Coffee Roasters' 'Equiano Coffee' 'BLK & Bold'\n",
      " 'Merge Coffee Company' 'Portrait Coffee' 'Southeastern Roastery'\n",
      " \"Dr. Bean's Coffee Roasters\" 'Drink Coffee Do Stuff' 'Emiliani Coffee'\n",
      " 'CofFeeling' 'Dory Coffee Roasters' 'Peach Coffee Roasters'\n",
      " \"Kaldi's Coffee\" 'Highwire Coffee Roasters' 'Rooster Roastery'\n",
      " 'Bona Kafo Roastery' 'Miranda Farms' 'Jaunt Coffee Roasters' 'DoDo Kaffa'\n",
      " 'Pop Coffee Works' 'Steady State Roasting' 'States Coffee' 'El Gran Café'\n",
      " 'Stereo Coffee Roasters' 'Three Keys Coffee' 'Singsun Coffee'\n",
      " 'Peacock Coffee Roaster' 'Cafe Kreyol' 'Nostalgia Coffee Roasters'\n",
      " 'Simon Hsieh Aroma Roast Coffees' \"Sunny's Coffee\"\n",
      " 'Normandy Coffee Thai Cuisine' 'Oceana Coffee' 'Brioso Coffee'\n",
      " 'One Fresh Cup' 'RD Cafe' 'Badbeard’s Microroastery' 'Regent Coffee'\n",
      " 'San Francisco Bay Coffee' 'Old World Coffee Lab' 'SOT Coffee Roaster'\n",
      " 'Wildgoose Coffee Roasters' '1951 Coffee Company' 'Lina Premium Coffee'\n",
      " 'RanGuo Coffee' 'Roadmap CoffeeWorks' 'True Coffee Roasters'\n",
      " 'Coffee By Design' 'Islamorada Coffee Roasters' 'Cheer Beans'\n",
      " 'Thanksgiving Coffee Company' 'Jade Cafe' 'Big Shoulders Coffee '\n",
      " 'Geisha Coffee Roaster' \"Ming's Coffee Playroom\" 'Olympia Coffee'\n",
      " 'Mamechamame Coffee' 'Valverde Coffee Roasters' 'Le Brewlife'\n",
      " 'Rusty’s Hawaiian' 'LECO Coffee' 'EK Roast Studio' 'Home in Harmony'\n",
      " 'Taster’s Coffee' 'Mr. Chao Coffee' 'Novo Coffee Roasters'\n",
      " 'Qin Mi Coffee' 'Hidden Coffee HK' 'Fresh Roasted Coffee'\n",
      " 'Metropolis Coffee' 'Coffee by Design' \"Taster's Coffee\" 'Cafe Unido'\n",
      " 'Port of Mokha' 'Qima Coffee' 'Kona Love Coffee Co.' 'Samlin Coffee'\n",
      " 'Genesis Coffee Lab' 'Red Rock Roasters' 'Chromatic Coffee'\n",
      " 'Omine Coffee' 'Mute Roaster' 'El Gran Cafe' 'Luv Moshi' 'VERYTIME'\n",
      " 'Folklore Coffee' 'Cafe Red Bean Shop' 'Battlecreek Coffee'\n",
      " 'Satur Specialty Coffee' 'Tipico Coffee' 'Monarch Coffee'\n",
      " 'Ba Yang Coffee' 'Min Enjoy Cafe' 'Chaos Coffee Company' \"Peet's Coffee\"\n",
      " 'Roadmap Coffeeworks' 'Ramshead Coffee Roasters' 'Cozy House Coffee'\n",
      " 'Yellow Brick Coffee' \"Spix's Cafe\" '1980 CAFE' 'Hub Coffee Roasters'\n",
      " 'Rusty Dog Coffee' 'Modern Times Coffee' 'Felala Coffee Lab'\n",
      " 'Mostra Coffee' 'Buon Caffe' 'The Reverse Orangutan' 'Cafe Fugu Roasters'\n",
      " 'Trident Coffee' 'St1 Cafe/Work Room' 'Desolate Café' 'CafeTaster'\n",
      " 'Per’la Specialty Roasters' 'Cup to Cup Coffee Roasters'\n",
      " 'Water Street Coffee' 'Kona View Coffee' 'Muka Coffee'\n",
      " 'Chousin Coffee Collection' 'Temple Coffee' 'Press Coffee'\n",
      " 'Golin Coffee Roasters' 'AKA Coffee Roasters' 'Bassline Coffee'\n",
      " \"Blanchard's Coffee\" 'ILSE Coffee Roasters' 'Rest Coffee Roasters'\n",
      " 'Swelter Coffee' 'Sightseer Coffee' 'Fumi Coffee Company' 'Bargain Cafe'\n",
      " 'Rubasse Coffee Roaster' 'Chiming Coffee' 'JYL Cafe'\n",
      " 'Balmy Day Coffee Office' 'Dr. Young Cafe'\n",
      " 'San Francisco Bay Coffee Company' 'Durango Coffee Companuy']\n",
      "roast: ['Medium-Light' 'Medium' 'Light' 'Medium-Dark' nan 'Dark']\n",
      "loc_country: ['United States' 'Canada' 'Hong Kong' \"Hawai'i\" 'Taiwan' 'England'\n",
      " 'Australia' 'Guatemala' 'Japan' 'China' 'Kenya' 'New Taiwan']\n",
      "origin: ['Ethiopia' \"Hawai'I\" 'Kenya' 'Guatemala' 'Colombia' 'Panama' 'Nicaragua'\n",
      " 'Indonesia' 'Peru' 'Rwanda' 'Nepal' 'Costa Rica' 'Ecuador' 'Brazil'\n",
      " 'Democratic Republic Of The Congo' 'Burundi' 'El Salvador' 'Yemen'\n",
      " 'Bolivia' 'Taiwan' 'Mexico' 'Dominican Republic' 'Honduras' 'Thailand'\n",
      " 'Uganda' 'Tanzania' 'Philippines']\n",
      "review_date: ['November 2017' 'December 2017' 'January 2018' 'February 2018'\n",
      " 'March 2018' 'April 2018' 'May 2018' 'June 2018' 'July 2018'\n",
      " 'August 2018' 'September 2018' 'October 2018' 'November 2018'\n",
      " 'December 2018' 'February 2019' 'January 2019' 'March 2019' 'April 2019'\n",
      " 'May 2019' 'June 2019' 'July 2019' 'August 2019' 'September 2019'\n",
      " 'October 2019' 'November 2019' 'December 2019' 'January 2020'\n",
      " 'February 2020' 'March 2020' 'April 2020' 'May 2020' 'June 2020'\n",
      " 'July 2020' 'August 2020' 'September 2020' 'October 2020' 'November 2020'\n",
      " 'December 2020' 'January 2021' 'February 2021' 'March 2021' 'April 2021'\n",
      " 'May 2021' 'June 2021' 'July 2021' 'August 2021' 'September 2021'\n",
      " 'October 2021' 'November 2021' 'December 2021' 'January 2022'\n",
      " 'February 2022' 'March 2022' 'April 2022' 'May 2022' 'June 2022'\n",
      " 'July 2022' 'August 2022' 'September 2022' 'October 2022' 'November 2022']\n",
      "review: ['Crisply sweet, cocoa-toned. Lemon blossom, roasted cacao nib, date, rice candy, white peppercorn in aroma and cup. Savory-tart structure; delicate, silky mouthfeel. The richly drying finish leads with cocoa-toned, crisply sweet floral notes in the short and a hint of spice (white peppercorn) in the long.'\n",
      " 'Delicate, sweetly spice-toned. Pink peppercorn, date, myrrh, lavender, roasted cacao nib in aroma and cup. Crisp, spice-toned structure with citrus-like acidity; satiny, very smooth mouthfeel. The crisply sweet finish centers around spice and pungent floral notes.'\n",
      " 'Deeply sweet, subtly pungent. Honey, pear, tangerine zest, dark chocolate, pistachio in aroma and cup. Sweet and juicy yet crisp in structure (think ripe pear); plush and buoyant in mouthfeel. Resonant and flavor saturated in the short finish; simplifies around hints of tangerine and pistachio in the long.'\n",
      " ...\n",
      " 'High-toned, enticingly sweet. Black cherry, narcissus, cashew butter, lemon verbena, juniper bark in aroma and cup. Sweet-tart structure with bright acidity; crisp, satiny-smooth mouthfeel. The finish leads with notes of black cherry and lemon verbena, rounding to creamy cashew in the long.'\n",
      " ' Vibrantly sweet, subtly nuanced. Apricot, dark chocolate, hazelnut, hyacinth, honey in aroma and cup. Sweetly tart structure with brisk acidity; smooth, syrupy mouthfeel. The chocolaty finish is supported by notes of apricot and hazelnut. '\n",
      " 'Evaluated as espresso. Multi-layered, complex. Dark chocolate, dried apricot, star jasmine, cedar, hazelnut butter in aroma and small cup. Very syrupy mouthfeel; crisply fruit-toned finish. In three parts milk, chocolate and apricot notes are amplified, supported by spicy florals.']\n"
     ]
    }
   ],
   "source": [
    "# выберем уникальные значения ячеек\n",
    "unique_names = data.select_dtypes(include=\"object\").columns\n",
    "\n",
    "for column in unique_names:\n",
    "    print(f\"{column}: {data[column].unique()}\")"
   ],
   "metadata": {
    "collapsed": false,
    "ExecuteTime": {
     "end_time": "2024-12-11T14:44:26.642220600Z",
     "start_time": "2024-12-11T14:44:26.553215700Z"
    }
   },
   "id": "6b20f818f6922f02",
   "execution_count": 53
  },
  {
   "cell_type": "code",
   "outputs": [],
   "source": [
    "# преобразуем категориальные переменные в фиктивные\n",
    "if not unique_names.empty:\n",
    "    data = pd.get_dummies(data, columns=unique_names, drop_first=True)"
   ],
   "metadata": {
    "collapsed": false,
    "ExecuteTime": {
     "end_time": "2024-12-11T14:44:26.733578800Z",
     "start_time": "2024-12-11T14:44:26.645696900Z"
    }
   },
   "id": "5e19b17730395e86",
   "execution_count": 54
  },
  {
   "cell_type": "code",
   "outputs": [
    {
     "name": "stdout",
     "output_type": "stream",
     "text": [
      "<class 'pandas.core.frame.DataFrame'>\n",
      "RangeIndex: 1246 entries, 0 to 1245\n",
      "Columns: 2788 entries, 100g_USD to review_ Rich-toned, deeply sweet. Dark chocolate, date, singed cedar, Bing cherry, saltwater taffy. Deepy sweet structure with gentle acidity; viscous, smooth mouthfeel. The finish consolidates to dark chocolate and saltwater taffy.\n",
      "dtypes: bool(2786), float64(1), int64(1)\n",
      "memory usage: 3.3 MB\n"
     ]
    }
   ],
   "source": [
    "# узнаем инфо о измененном датасете\n",
    "data.info()"
   ],
   "metadata": {
    "collapsed": false,
    "ExecuteTime": {
     "end_time": "2024-12-11T14:44:26.826834900Z",
     "start_time": "2024-12-11T14:44:26.705822700Z"
    }
   },
   "id": "e5a5ef4b3291de58",
   "execution_count": 55
  },
  {
   "cell_type": "markdown",
   "source": [
    "Построим гистаграмму для колонки с рейтингом"
   ],
   "metadata": {
    "collapsed": false
   },
   "id": "f640491170b5842a"
  },
  {
   "cell_type": "code",
   "outputs": [
    {
     "data": {
      "text/plain": "<Figure size 640x480 with 1 Axes>",
      "image/png": "[encoded data removed]"
     },
     "metadata": {},
     "output_type": "display_data"
    }
   ],
   "source": [
    "bin_num = data[\"rating\"].max() - data[\"rating\"].min() + 1\n",
    "\n",
    "plt.hist(data['rating'], bins=bin_num, color='blue')\n",
    "plt.title(\"Распределение рейтинга\")\n",
    "plt.xlabel(\"Рейтинг\")\n",
    "plt.ylabel(\"Часстота\")\n",
    "\n",
    "x_ticks = np.arange(data['rating'].min(), data['rating'].max() + 1)\n",
    "plt.xticks(x_ticks, rotation=90)  # Повернем подпись по оси x\n",
    "\n",
    "plt.show()"
   ],
   "metadata": {
    "collapsed": false,
    "ExecuteTime": {
     "end_time": "2024-12-11T14:44:26.950209300Z",
     "start_time": "2024-12-11T14:44:26.781260500Z"
    }
   },
   "id": "63d1a812b4b56935",
   "execution_count": 56
  },
  {
   "cell_type": "markdown",
   "source": [
    "Построим точечную диаграмму для рейтинга и цены"
   ],
   "metadata": {
    "collapsed": false
   },
   "id": "7e74fe085040792"
  },
  {
   "cell_type": "code",
   "outputs": [
    {
     "data": {
      "text/plain": "<Figure size 800x600 with 1 Axes>",
      "image/png": "[encoded data removed]"
     },
     "metadata": {},
     "output_type": "display_data"
    }
   ],
   "source": [
    "plt.figure(figsize=(8, 6))\n",
    "sns.scatterplot(x=data[\"rating\"], y=data['100g_USD'], color=\"blue\")\n",
    "plt.title(\"Зависимость цены от рейтинга\", fontsize=16)\n",
    "plt.xlabel(\"рейтинг\", fontsize=12)\n",
    "plt.ylabel(\"цена\", fontsize=12)\n",
    "plt.grid()\n",
    "plt.show()"
   ],
   "metadata": {
    "collapsed": false,
    "ExecuteTime": {
     "end_time": "2024-12-11T14:44:27.123040700Z",
     "start_time": "2024-12-11T14:44:26.950209300Z"
    }
   },
   "id": "a7b4bbe0a15d2018",
   "execution_count": 57
  },
  {
   "cell_type": "markdown",
   "source": [
    "поставим гипотезу: цена распределена нормально\n",
    "Далее проверим ее"
   ],
   "metadata": {
    "collapsed": false
   },
   "id": "18a8ba35e23b1ed4"
  },
  {
   "cell_type": "code",
   "outputs": [
    {
     "name": "stdout",
     "output_type": "stream",
     "text": [
      "Статистика: 1306.4548276784508, p-значеник: 2.0273967300444e-284\n",
      "гипотеза отвергается\n"
     ]
    }
   ],
   "source": [
    "stat, p_value = normaltest(data['100g_USD'])\n",
    "print(f\"Статистика: {stat}, p-значеник: {p_value}\")\n",
    "\n",
    "if p_value < 0.05:\n",
    "    print(\"гипотеза отвергается\")\n",
    "else:\n",
    "    print(\"гипотеза подтверждается\")"
   ],
   "metadata": {
    "collapsed": false,
    "ExecuteTime": {
     "end_time": "2024-12-11T14:44:27.124129300Z",
     "start_time": "2024-12-11T14:44:27.117835Z"
    }
   },
   "id": "64341cd62daf6798",
   "execution_count": 58
  },
  {
   "cell_type": "markdown",
   "source": [
    "проверим зависимость между рейтингом и ценой"
   ],
   "metadata": {
    "collapsed": false
   },
   "id": "8375ed529e790c60"
  },
  {
   "cell_type": "code",
   "outputs": [
    {
     "name": "stdout",
     "output_type": "stream",
     "text": [
      "Коэффициент корреляции: 0.2416154039156363, p-value: 5.213257231723688e-18\n",
      "Корреляция значима.\n"
     ]
    }
   ],
   "source": [
    "corr, p_value_corr = pearsonr(data['100g_USD'], data['rating'])\n",
    "print(f\"Коэффициент корреляции: {corr}, p-value: {p_value_corr}\")\n",
    "\n",
    "if p_value_corr < 0.05:\n",
    "    print(\"Корреляция значима.\")\n",
    "else:\n",
    "    print(\"Корреляция незначима.\")"
   ],
   "metadata": {
    "collapsed": false,
    "ExecuteTime": {
     "end_time": "2024-12-11T14:44:27.133813300Z",
     "start_time": "2024-12-11T14:44:27.127354600Z"
    }
   },
   "id": "74c59966e4a8c5aa",
   "execution_count": 59
  },
  {
   "cell_type": "markdown",
   "source": [
    "Как мы видим корреляция подтвердилась"
   ],
   "metadata": {
    "collapsed": false
   },
   "id": "c89248d1fa110eb0"
  }
 ],
 "metadata": {
  "kernelspec": {
   "display_name": "Python 3",
   "language": "python",
   "name": "python3"
  },
  "language_info": {
   "codemirror_mode": {
    "name": "ipython",
    "version": 2
   },
   "file_extension": ".py",
   "mimetype": "text/x-python",
   "name": "python",
   "nbconvert_exporter": "python",
   "pygments_lexer": "ipython2",
   "version": "2.7.6"
  }
 },
 "nbformat": 4,
 "nbformat_minor": 5
}
